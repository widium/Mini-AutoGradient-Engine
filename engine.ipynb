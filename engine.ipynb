{
 "cells": [
  {
   "cell_type": "code",
   "execution_count": null,
   "metadata": {},
   "outputs": [],
   "source": [
    "class Variable:\n",
    "    \n",
    "    def __init__(self, value, grad=None):\n",
    "        self.value = value\n",
    "        self.grad = grad if grad is not None else 0\n",
    "        self.backward_fn = None\n",
    "\n",
    "    def __add__(self, other):\n",
    "        \n",
    "        result = Variable(self.value + other.value)\n",
    "        \n",
    "        def backward():\n",
    "            self.grad += result.grad\n",
    "            other.grad += result.grad\n",
    "            \n",
    "        result.backward_fn = backward\n",
    "        \n",
    "        return result\n",
    "\n",
    "    def __mul__(self, other):\n",
    "        \n",
    "        result = Variable(self.value * other.value)\n",
    "        \n",
    "        def backward():\n",
    "            self.grad += other.value * result.grad\n",
    "            other.grad += self.value * result.grad\n",
    "            \n",
    "        result.backward_fn = backward\n",
    "        \n",
    "        return result\n",
    "\n",
    "    def backward(self):\n",
    "        if self.backward_fn is not None:\n",
    "            self.backward_fn()\n"
   ]
  }
 ],
 "metadata": {
  "kernelspec": {
   "display_name": "tf_gpu",
   "language": "python",
   "name": "python3"
  },
  "language_info": {
   "name": "python",
   "version": "3.8.0"
  },
  "orig_nbformat": 4
 },
 "nbformat": 4,
 "nbformat_minor": 2
}
