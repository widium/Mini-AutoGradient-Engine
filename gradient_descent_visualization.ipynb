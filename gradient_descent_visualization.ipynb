{
 "cells": [
  {
   "cell_type": "code",
   "execution_count": 56,
   "metadata": {},
   "outputs": [],
   "source": [
    "import matplotlib.pyplot as plt\n",
    "import numpy as np"
   ]
  },
  {
   "cell_type": "code",
   "execution_count": 57,
   "metadata": {},
   "outputs": [],
   "source": [
    "def mean_squared_error(y_true, y_pred):\n",
    "    return np.mean((y_true - y_pred) ** 2, axis=0)"
   ]
  },
  {
   "cell_type": "code",
   "execution_count": 58,
   "metadata": {},
   "outputs": [
    {
     "data": {
      "text/plain": [
       "(array([[-5.        ],\n",
       "        [-4.8989899 ],\n",
       "        [-4.7979798 ],\n",
       "        [-4.6969697 ],\n",
       "        [-4.5959596 ],\n",
       "        [-4.49494949],\n",
       "        [-4.39393939],\n",
       "        [-4.29292929],\n",
       "        [-4.19191919],\n",
       "        [-4.09090909],\n",
       "        [-3.98989899],\n",
       "        [-3.88888889],\n",
       "        [-3.78787879],\n",
       "        [-3.68686869],\n",
       "        [-3.58585859],\n",
       "        [-3.48484848],\n",
       "        [-3.38383838],\n",
       "        [-3.28282828],\n",
       "        [-3.18181818],\n",
       "        [-3.08080808],\n",
       "        [-2.97979798],\n",
       "        [-2.87878788],\n",
       "        [-2.77777778],\n",
       "        [-2.67676768],\n",
       "        [-2.57575758],\n",
       "        [-2.47474747],\n",
       "        [-2.37373737],\n",
       "        [-2.27272727],\n",
       "        [-2.17171717],\n",
       "        [-2.07070707],\n",
       "        [-1.96969697],\n",
       "        [-1.86868687],\n",
       "        [-1.76767677],\n",
       "        [-1.66666667],\n",
       "        [-1.56565657],\n",
       "        [-1.46464646],\n",
       "        [-1.36363636],\n",
       "        [-1.26262626],\n",
       "        [-1.16161616],\n",
       "        [-1.06060606],\n",
       "        [-0.95959596],\n",
       "        [-0.85858586],\n",
       "        [-0.75757576],\n",
       "        [-0.65656566],\n",
       "        [-0.55555556],\n",
       "        [-0.45454545],\n",
       "        [-0.35353535],\n",
       "        [-0.25252525],\n",
       "        [-0.15151515],\n",
       "        [-0.05050505],\n",
       "        [ 0.05050505],\n",
       "        [ 0.15151515],\n",
       "        [ 0.25252525],\n",
       "        [ 0.35353535],\n",
       "        [ 0.45454545],\n",
       "        [ 0.55555556],\n",
       "        [ 0.65656566],\n",
       "        [ 0.75757576],\n",
       "        [ 0.85858586],\n",
       "        [ 0.95959596],\n",
       "        [ 1.06060606],\n",
       "        [ 1.16161616],\n",
       "        [ 1.26262626],\n",
       "        [ 1.36363636],\n",
       "        [ 1.46464646],\n",
       "        [ 1.56565657],\n",
       "        [ 1.66666667],\n",
       "        [ 1.76767677],\n",
       "        [ 1.86868687],\n",
       "        [ 1.96969697],\n",
       "        [ 2.07070707],\n",
       "        [ 2.17171717],\n",
       "        [ 2.27272727],\n",
       "        [ 2.37373737],\n",
       "        [ 2.47474747],\n",
       "        [ 2.57575758],\n",
       "        [ 2.67676768],\n",
       "        [ 2.77777778],\n",
       "        [ 2.87878788],\n",
       "        [ 2.97979798],\n",
       "        [ 3.08080808],\n",
       "        [ 3.18181818],\n",
       "        [ 3.28282828],\n",
       "        [ 3.38383838],\n",
       "        [ 3.48484848],\n",
       "        [ 3.58585859],\n",
       "        [ 3.68686869],\n",
       "        [ 3.78787879],\n",
       "        [ 3.88888889],\n",
       "        [ 3.98989899],\n",
       "        [ 4.09090909],\n",
       "        [ 4.19191919],\n",
       "        [ 4.29292929],\n",
       "        [ 4.39393939],\n",
       "        [ 4.49494949],\n",
       "        [ 4.5959596 ],\n",
       "        [ 4.6969697 ],\n",
       "        [ 4.7979798 ],\n",
       "        [ 4.8989899 ],\n",
       "        [ 5.        ]]),\n",
       " (100, 1),\n",
       " array([-1.26632562]),\n",
       " (1,))"
      ]
     },
     "execution_count": 58,
     "metadata": {},
     "output_type": "execute_result"
    }
   ],
   "source": [
    "X = np.linspace(-5, 5, 100)[:, np.newaxis]\n",
    "W = np.random.randn(1)\n",
    "\n",
    "X, X.shape, W,  W.shape"
   ]
  },
  {
   "cell_type": "code",
   "execution_count": 59,
   "metadata": {},
   "outputs": [
    {
     "data": {
      "text/plain": [
       "(array([[-10.        ],\n",
       "        [ -9.7979798 ],\n",
       "        [ -9.5959596 ],\n",
       "        [ -9.39393939],\n",
       "        [ -9.19191919],\n",
       "        [ -8.98989899],\n",
       "        [ -8.78787879],\n",
       "        [ -8.58585859],\n",
       "        [ -8.38383838],\n",
       "        [ -8.18181818]]),\n",
       " (100, 1),\n",
       " array([[6.33162811],\n",
       "        [6.20371643],\n",
       "        [6.07580476],\n",
       "        [5.94789308],\n",
       "        [5.8199814 ],\n",
       "        [5.69206972],\n",
       "        [5.56415804],\n",
       "        [5.43624636],\n",
       "        [5.30833468],\n",
       "        [5.180423  ]]),\n",
       " (100, 1))"
      ]
     },
     "execution_count": 59,
     "metadata": {},
     "output_type": "execute_result"
    }
   ],
   "source": [
    "target_param = 2\n",
    " \n",
    "Y = X * target_param\n",
    "Y_hat = np.matmul(X, W)[:, np.newaxis]\n",
    "\n",
    "Y[:10], Y.shape, Y_hat[:10], Y_hat.shape"
   ]
  },
  {
   "cell_type": "code",
   "execution_count": 43,
   "metadata": {},
   "outputs": [
    {
     "data": {
      "text/plain": [
       "(1,)"
      ]
     },
     "execution_count": 43,
     "metadata": {},
     "output_type": "execute_result"
    }
   ],
   "source": [
    "Loss = mean_squared_error(Y, Y_hat)\n",
    "\n",
    "Loss.shape"
   ]
  },
  {
   "cell_type": "code",
   "execution_count": 44,
   "metadata": {},
   "outputs": [
    {
     "name": "stdout",
     "output_type": "stream",
     "text": [
      "(1, 1)\n"
     ]
    }
   ],
   "source": [
    "def derivative_of_loss_respect_weight(y_true, y_pred, X):\n",
    "    \n",
    "    N = X.shape[0]  # Number of data points\n",
    "    \n",
    "    # Step 1: Compute the difference between true values and predicted values\n",
    "    diff = y_true - y_pred\n",
    "    \n",
    "    # Step 2: Calculate the derivative of Loss with respect to Y_hat\n",
    "    dLoss_dY_hat = -2/N * diff\n",
    "    \n",
    "    # Step 3: Calculate the derivative of Y_hat with respect to W\n",
    "    dY_hat_dW = X\n",
    "    \n",
    "    # Step 4: Multiply the two derivatives to get the derivative of Loss with respect to W\n",
    "    # print(dY_hat_dW.shape, dLoss_dY_hat.shape)\n",
    "    dLoss_dW = np.matmul(dY_hat_dW.T, dLoss_dY_hat)\n",
    "    \n",
    "    return dLoss_dW\n",
    "\n",
    "dLoss_dW = derivative_of_loss_respect_weight(Y, Y_hat, X)\n",
    "\n",
    "print(dLoss_dW.shape)"
   ]
  },
  {
   "cell_type": "code",
   "execution_count": 111,
   "metadata": {},
   "outputs": [
    {
     "data": {
      "image/png": "[encoded data removed]",
      "text/plain": [
       "<Figure size 640x480 with 1 Axes>"
      ]
     },
     "metadata": {},
     "output_type": "display_data"
    }
   ],
   "source": [
    "N = 100\n",
    "min_weight_value = target_param - 2\n",
    "max_weight_value = target_param + 2\n",
    "\n",
    "weight_range = np.linspace(min_weight_value, max_weight_value, 100)\n",
    "predictions = [X * w for w in weight_range]\n",
    "loss_range = [mean_squared_error(Y, pred) \n",
    "              for pred in predictions]\n",
    "\n",
    "loss_derivative_range = [derivative_of_loss_respect_weight(Y, pred, X)\n",
    "                for pred in predictions]\n",
    "\n",
    "\n",
    "# Visualize the convex Loss function centered on the minimum error with the weight value\n",
    "plt.plot(weight_range, np.array(loss_derivative_range).flatten())\n",
    "plt.xlabel('Weight Value')\n",
    "plt.ylabel('Loss Value')\n",
    "plt.title('Convex Loss Function')\n",
    "plt.axvline(target_param, color='r', linestyle='--', label='Optimal Weight Value')\n",
    "plt.legend()\n",
    "plt.show()\n"
   ]
  },
  {
   "cell_type": "code",
   "execution_count": 118,
   "metadata": {},
   "outputs": [],
   "source": [
    "\n",
    "def visualize_derivative_descent(\n",
    "    max_epochs : int,\n",
    "    learning_rate : float,\n",
    "    X : np.array,\n",
    "    Y : np.array\n",
    "):\n",
    "    np.random.seed(42)\n",
    "    \n",
    "    target_param = 2\n",
    "    W = np.random.randn(1)\n",
    "    \n",
    "    N = 100\n",
    "    min_weight_value = target_param - 2\n",
    "    max_weight_value = target_param + 2\n",
    "\n",
    "    weight_range = np.linspace(min_weight_value, max_weight_value, 100)\n",
    "    predictions = [X * w for w in weight_range]\n",
    "    loss_range = [mean_squared_error(Y, pred) \n",
    "                for pred in predictions]\n",
    "    \n",
    "    loss_derivative_range = [derivative_of_loss_respect_weight(Y, pred, X)\n",
    "                for pred in predictions]\n",
    "    \n",
    "    # plt.plot(weight_range, np.array(loss_derivative_range).flatten())\n",
    "    plt.plot(weight_range, loss_range)\n",
    "    plt.xlabel('Weight Value')\n",
    "    plt.ylabel('Loss Value')\n",
    "    # plt.axvline(target_param, color='r', linestyle='--', label='Optimal Weight Value')\n",
    "    plt.legend()\n",
    "    \n",
    "    \n",
    "    for epoch in range(max_epochs):\n",
    "        \n",
    "        prediction = X * W\n",
    "        loss = mean_squared_error(y_true=Y, y_pred=prediction)\n",
    "        dLoss_dW = derivative_of_loss_respect_weight(Y, prediction, X)\n",
    "        W = W - learning_rate * dLoss_dW\n",
    "        # print(W, loss)\n",
    "        plt.scatter(x=W, y=loss, c='red', alpha=0.5)\n",
    "        # print(W)\n",
    "    \n",
    "    plt.show()  \n"
   ]
  },
  {
   "cell_type": "code",
   "execution_count": 119,
   "metadata": {},
   "outputs": [
    {
     "name": "stderr",
     "output_type": "stream",
     "text": [
      "No artists with labels found to put in legend.  Note that artists whose label start with an underscore are ignored when legend() is called with no argument.\n"
     ]
    },
    {
     "data": {
      "image/png": "[encoded data removed]",
      "text/plain": [
       "<Figure size 640x480 with 1 Axes>"
      ]
     },
     "metadata": {},
     "output_type": "display_data"
    }
   ],
   "source": [
    "visualize_derivative_descent(\n",
    "    max_epochs=10,\n",
    "    learning_rate=0.1,\n",
    "    X=X,\n",
    "    Y=Y\n",
    ")\n",
    "    \n",
    "    \n",
    "    "
   ]
  },
  {
   "cell_type": "code",
   "execution_count": null,
   "metadata": {},
   "outputs": [],
   "source": [
    "def plot_descent(dfx, y, nb):\n",
    "    # Hyper-parameters\n",
    "    alpha = 0.5\n",
    "    max_epochs = 10\n",
    "    \n",
    "    # Plot\n",
    "    plt.figure(figsize=(8, 5))\n",
    "    plt.xlabel(\"Parameter Value\")\n",
    "    plt.ylabel(\"Value to Minimize\")\n",
    "    plt.plot(dfx, y)\n",
    "    plt.scatter(dfx[nb], y[nb], c='green', alpha=0.5)\n",
    "\n",
    "    \n",
    "    for _ in range(max_epochs):\n",
    "        \n",
    "        print(f\"nb : [{nb}]\")\n",
    "        print(f\"dfx : [{dfx[nb]}]\")\n",
    "        nb = nb - round(alpha * dfx[nb])\n",
    "        plt.scatter(dfx[nb], y[nb], c='red', alpha=0.5)\n",
    "    \n",
    "    return (dfx[nb])"
   ]
  },
  {
   "cell_type": "code",
   "execution_count": null,
   "metadata": {},
   "outputs": [],
   "source": []
  }
 ],
 "metadata": {
  "kernelspec": {
   "display_name": "tf_gpu",
   "language": "python",
   "name": "python3"
  },
  "language_info": {
   "codemirror_mode": {
    "name": "ipython",
    "version": 3
   },
   "file_extension": ".py",
   "mimetype": "text/x-python",
   "name": "python",
   "nbconvert_exporter": "python",
   "pygments_lexer": "ipython3",
   "version": "3.8.0"
  },
  "orig_nbformat": 4
 },
 "nbformat": 4,
 "nbformat_minor": 2
}
